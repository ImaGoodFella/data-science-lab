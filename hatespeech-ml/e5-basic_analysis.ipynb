{
 "cells": [
  {
   "cell_type": "code",
   "execution_count": 1,
   "id": "365f98f0-cebe-4d46-a790-453a80dd8549",
   "metadata": {},
   "outputs": [],
   "source": [
    "from sklearn.metrics import f1_score, balanced_accuracy_score, precision_score, recall_score, confusion_matrix\n",
    "import torch\n",
    "import pickle\n",
    "import pandas as pd\n",
    "\n",
    "import langid\n",
    "from tqdm.auto import tqdm\n",
    "tqdm.pandas()\n",
    "\n",
    "from data.dataset import get_dataloaders"
   ]
  },
  {
   "cell_type": "code",
   "execution_count": 2,
   "id": "47559914-127f-4b67-859c-a685f4cc4eb3",
   "metadata": {},
   "outputs": [],
   "source": [
    "data_path = \"../data/\""
   ]
  },
  {
   "cell_type": "code",
   "execution_count": 3,
   "id": "0e28092f-f878-4f12-897b-a410c7a8fa1c",
   "metadata": {},
   "outputs": [],
   "source": [
    "with open(data_path + 'e5-preds.pkl', 'rb') as f:\n",
    "    res_vals = pickle.load(f)"
   ]
  },
  {
   "cell_type": "code",
   "execution_count": 4,
   "id": "006b5f37-a687-4437-87a8-1bf15b1d6fd9",
   "metadata": {},
   "outputs": [],
   "source": [
    "dataset = get_dataloaders(model_name=None, data_path=data_path, use_cache=False, batch_size=64, debug=1, comment_column='kommentar_original')\n",
    "df_all = pd.DataFrame(dataset['test']['text'], columns=['text'])"
   ]
  },
  {
   "cell_type": "code",
   "execution_count": 5,
   "id": "172adba9-6f9e-49a9-9dac-07617a7820a7",
   "metadata": {},
   "outputs": [],
   "source": [
    "df_all['labels'] = res_vals['labels']\n",
    "df_all['predictions'] = res_vals['predictions']\n",
    "df_all['neg_prob'] = res_vals['probabilities'][:,0]\n",
    "df_all['pos_prob'] = res_vals['probabilities'][:,1]"
   ]
  },
  {
   "cell_type": "code",
   "execution_count": 6,
   "id": "acbcacb2-fb5b-434c-b10a-4b7fbafcf1a9",
   "metadata": {},
   "outputs": [
    {
     "data": {
      "application/vnd.jupyter.widget-view+json": {
       "model_id": "a14680e20b634256bab9bbd8e3cdda14",
       "version_major": 2,
       "version_minor": 0
      },
      "text/plain": [
       "  0%|          | 0/41746 [00:00<?, ?it/s]"
      ]
     },
     "metadata": {},
     "output_type": "display_data"
    }
   ],
   "source": [
    "langid.set_languages(['fr', 'de'])\n",
    "df_all['language'] = df_all[\"text\"].progress_apply(lambda x :langid.classify(x)[0])\n",
    "df_de = df_all[df_all['language'] == 'de']\n",
    "df_fr = df_all[df_all['language'] == 'fr']"
   ]
  },
  {
   "cell_type": "code",
   "execution_count": 7,
   "id": "9bdcbdc8-e6ea-4772-8451-733314c96652",
   "metadata": {},
   "outputs": [],
   "source": [
    "def calculate_metrics(model_name, predictions, labels):\n",
    "    scores = ['f1', 'precision', 'recall']\n",
    "    params = ['micro', 'macro', 'weighted', 'binary']\n",
    "    columns = ['model','accuracy'] + [score + '_' + param for score in scores for param in params]\n",
    "    df = pd.DataFrame(0, index = [0], columns=columns + ['f1_binary_neg'])\n",
    "    df.iloc[0, 0] = model_name\n",
    "    df.iloc[0, 1] = balanced_accuracy_score(predictions, labels)\n",
    "    i = 2\n",
    "    for param in params:\n",
    "        df.loc[0, f'{scores[0]}_{param}'] = f1_score(predictions, labels, average=param)\n",
    "        df.loc[0, f'{scores[1]}_{param}'] = precision_score(predictions, labels, average=param)\n",
    "        df.loc[0, f'{scores[2]}_{param}'] = recall_score(predictions, labels, average=param)\n",
    "        i=i+3\n",
    "\n",
    "    df.loc[0, f'{scores[0]}_binary_neg'] = f1_score(1 - predictions, 1 - labels, average='binary')\n",
    "\n",
    "    return df"
   ]
  },
  {
   "cell_type": "code",
   "execution_count": 10,
   "id": "5a13d70f-5e3f-48dc-b68f-fddb6ce9720b",
   "metadata": {},
   "outputs": [
    {
     "data": {
      "text/html": [
       "<div>\n",
       "<style scoped>\n",
       "    .dataframe tbody tr th:only-of-type {\n",
       "        vertical-align: middle;\n",
       "    }\n",
       "\n",
       "    .dataframe tbody tr th {\n",
       "        vertical-align: top;\n",
       "    }\n",
       "\n",
       "    .dataframe thead th {\n",
       "        text-align: right;\n",
       "    }\n",
       "</style>\n",
       "<table border=\"1\" class=\"dataframe\">\n",
       "  <thead>\n",
       "    <tr style=\"text-align: right;\">\n",
       "      <th></th>\n",
       "      <th>model</th>\n",
       "      <th>accuracy</th>\n",
       "      <th>f1_micro</th>\n",
       "      <th>f1_macro</th>\n",
       "      <th>f1_weighted</th>\n",
       "      <th>f1_binary</th>\n",
       "      <th>precision_micro</th>\n",
       "      <th>precision_macro</th>\n",
       "      <th>precision_weighted</th>\n",
       "      <th>precision_binary</th>\n",
       "      <th>recall_micro</th>\n",
       "      <th>recall_macro</th>\n",
       "      <th>recall_weighted</th>\n",
       "      <th>recall_binary</th>\n",
       "      <th>f1_binary_neg</th>\n",
       "    </tr>\n",
       "  </thead>\n",
       "  <tbody>\n",
       "    <tr>\n",
       "      <th>0</th>\n",
       "      <td>all</td>\n",
       "      <td>0.749290</td>\n",
       "      <td>0.839985</td>\n",
       "      <td>0.777048</td>\n",
       "      <td>0.827131</td>\n",
       "      <td>0.658591</td>\n",
       "      <td>0.839985</td>\n",
       "      <td>0.846628</td>\n",
       "      <td>0.842238</td>\n",
       "      <td>0.857010</td>\n",
       "      <td>0.839985</td>\n",
       "      <td>0.749290</td>\n",
       "      <td>0.839985</td>\n",
       "      <td>0.534778</td>\n",
       "      <td>0.895504</td>\n",
       "    </tr>\n",
       "    <tr>\n",
       "      <th>0</th>\n",
       "      <td>de</td>\n",
       "      <td>0.741892</td>\n",
       "      <td>0.870942</td>\n",
       "      <td>0.776792</td>\n",
       "      <td>0.859499</td>\n",
       "      <td>0.631826</td>\n",
       "      <td>0.870942</td>\n",
       "      <td>0.847557</td>\n",
       "      <td>0.865874</td>\n",
       "      <td>0.815452</td>\n",
       "      <td>0.870942</td>\n",
       "      <td>0.741892</td>\n",
       "      <td>0.870942</td>\n",
       "      <td>0.515699</td>\n",
       "      <td>0.921758</td>\n",
       "    </tr>\n",
       "    <tr>\n",
       "      <th>0</th>\n",
       "      <td>fr</td>\n",
       "      <td>0.751793</td>\n",
       "      <td>0.756988</td>\n",
       "      <td>0.745264</td>\n",
       "      <td>0.746724</td>\n",
       "      <td>0.690615</td>\n",
       "      <td>0.756988</td>\n",
       "      <td>0.800212</td>\n",
       "      <td>0.797342</td>\n",
       "      <td>0.907642</td>\n",
       "      <td>0.756988</td>\n",
       "      <td>0.751793</td>\n",
       "      <td>0.756988</td>\n",
       "      <td>0.557347</td>\n",
       "      <td>0.799913</td>\n",
       "    </tr>\n",
       "  </tbody>\n",
       "</table>\n",
       "</div>"
      ],
      "text/plain": [
       "  model  accuracy  f1_micro  f1_macro  f1_weighted  f1_binary  \\\n",
       "0   all  0.749290  0.839985  0.777048     0.827131   0.658591   \n",
       "0    de  0.741892  0.870942  0.776792     0.859499   0.631826   \n",
       "0    fr  0.751793  0.756988  0.745264     0.746724   0.690615   \n",
       "\n",
       "   precision_micro  precision_macro  precision_weighted  precision_binary  \\\n",
       "0         0.839985         0.846628            0.842238          0.857010   \n",
       "0         0.870942         0.847557            0.865874          0.815452   \n",
       "0         0.756988         0.800212            0.797342          0.907642   \n",
       "\n",
       "   recall_micro  recall_macro  recall_weighted  recall_binary  f1_binary_neg  \n",
       "0      0.839985      0.749290         0.839985       0.534778       0.895504  \n",
       "0      0.870942      0.741892         0.870942       0.515699       0.921758  \n",
       "0      0.756988      0.751793         0.756988       0.557347       0.799913  "
      ]
     },
     "execution_count": 10,
     "metadata": {},
     "output_type": "execute_result"
    }
   ],
   "source": [
    "def get_general_metrics(df_list, name_list, confidence=0.5):\n",
    "\n",
    "    res = []\n",
    "    for df, name in zip(df_list, name_list):\n",
    "        df = df[df[['neg_prob', 'pos_prob']].max(axis=1) >= confidence]\n",
    "        res.append(calculate_metrics(name, df['predictions'], df['labels']))\n",
    "    return pd.concat(res)\n",
    "\n",
    "get_general_metrics([df_all, df_de, df_fr], ['all', 'de', 'fr'])"
   ]
  },
  {
   "cell_type": "code",
   "execution_count": null,
   "id": "f8dc5a08-45ed-47f3-84dd-2b2f670c7272",
   "metadata": {},
   "outputs": [],
   "source": []
  },
  {
   "cell_type": "code",
   "execution_count": null,
   "id": "b0ca0aad-787b-4505-828f-d8dc024ac279",
   "metadata": {},
   "outputs": [],
   "source": []
  },
  {
   "cell_type": "code",
   "execution_count": null,
   "id": "6af1e4dc-1790-457c-9ae4-99539a2dcae8",
   "metadata": {},
   "outputs": [],
   "source": []
  }
 ],
 "metadata": {
  "kernelspec": {
   "display_name": "Python 3 (ipykernel)",
   "language": "python",
   "name": "python3"
  },
  "language_info": {
   "codemirror_mode": {
    "name": "ipython",
    "version": 3
   },
   "file_extension": ".py",
   "mimetype": "text/x-python",
   "name": "python",
   "nbconvert_exporter": "python",
   "pygments_lexer": "ipython3",
   "version": "3.8.18"
  }
 },
 "nbformat": 4,
 "nbformat_minor": 5
}
